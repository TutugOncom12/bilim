{
 "cells": [
  {
   "cell_type": "code",
   "execution_count": 10,
   "metadata": {},
   "outputs": [
    {
     "name": "stdout",
     "output_type": "stream",
     "text": [
      "Nama: Bili Mahesa \n",
      "Prodi: Informatika \n",
      "Ttl: Bandung,31-03-05 \n",
      "bb: 53 \n",
      "Usia: 20 \n",
      "Tinggi: 167\n"
     ]
    }
   ],
   "source": [
    "nama = \"Bili Mahesa\"\n",
    "prodi = \"Informatika\"\n",
    "ttl = \"Bandung,31-03-05\"\n",
    "bb = 53\n",
    "usia = 20\n",
    "tinggi = 167\n",
    "\n",
    "print(\"Nama:\", nama, \"\\nProdi:\", prodi, \"\\nTtl:\", ttl, \"\\nbb:\", bb, \"\\nUsia:\", usia, \"\\nTinggi:\", tinggi)\n",
    "\n",
    "\n"
   ]
  }
 ],
 "metadata": {
  "kernelspec": {
   "display_name": "Python 3",
   "language": "python",
   "name": "python3"
  },
  "language_info": {
   "codemirror_mode": {
    "name": "ipython",
    "version": 3
   },
   "file_extension": ".py",
   "mimetype": "text/x-python",
   "name": "python",
   "nbconvert_exporter": "python",
   "pygments_lexer": "ipython3",
   "version": "3.12.7"
  }
 },
 "nbformat": 4,
 "nbformat_minor": 2
}
